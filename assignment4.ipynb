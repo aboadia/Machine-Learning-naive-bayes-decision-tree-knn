{
  "nbformat": 4,
  "nbformat_minor": 0,
  "metadata": {
    "colab": {
      "provenance": []
    },
    "kernelspec": {
      "name": "python3",
      "display_name": "Python 3"
    },
    "language_info": {
      "name": "python"
    }
  },
  "cells": [
    {
      "cell_type": "code",
      "execution_count": 1,
      "metadata": {
        "colab": {
          "base_uri": "https://localhost:8080/",
          "height": 107
        },
        "id": "SpItXbhlhyWn",
        "outputId": "e4e43e69-8a70-4b53-9ca5-7cfa435f83d8"
      },
      "outputs": [
        {
          "output_type": "display_data",
          "data": {
            "text/plain": [
              "<IPython.core.display.HTML object>"
            ],
            "text/html": [
              "\n",
              "     <input type=\"file\" id=\"files-6eefe403-c1c3-4d20-9547-843f65aec7bf\" name=\"files[]\" multiple disabled\n",
              "        style=\"border:none\" />\n",
              "     <output id=\"result-6eefe403-c1c3-4d20-9547-843f65aec7bf\">\n",
              "      Upload widget is only available when the cell has been executed in the\n",
              "      current browser session. Please rerun this cell to enable.\n",
              "      </output>\n",
              "      <script>// Copyright 2017 Google LLC\n",
              "//\n",
              "// Licensed under the Apache License, Version 2.0 (the \"License\");\n",
              "// you may not use this file except in compliance with the License.\n",
              "// You may obtain a copy of the License at\n",
              "//\n",
              "//      http://www.apache.org/licenses/LICENSE-2.0\n",
              "//\n",
              "// Unless required by applicable law or agreed to in writing, software\n",
              "// distributed under the License is distributed on an \"AS IS\" BASIS,\n",
              "// WITHOUT WARRANTIES OR CONDITIONS OF ANY KIND, either express or implied.\n",
              "// See the License for the specific language governing permissions and\n",
              "// limitations under the License.\n",
              "\n",
              "/**\n",
              " * @fileoverview Helpers for google.colab Python module.\n",
              " */\n",
              "(function(scope) {\n",
              "function span(text, styleAttributes = {}) {\n",
              "  const element = document.createElement('span');\n",
              "  element.textContent = text;\n",
              "  for (const key of Object.keys(styleAttributes)) {\n",
              "    element.style[key] = styleAttributes[key];\n",
              "  }\n",
              "  return element;\n",
              "}\n",
              "\n",
              "// Max number of bytes which will be uploaded at a time.\n",
              "const MAX_PAYLOAD_SIZE = 100 * 1024;\n",
              "\n",
              "function _uploadFiles(inputId, outputId) {\n",
              "  const steps = uploadFilesStep(inputId, outputId);\n",
              "  const outputElement = document.getElementById(outputId);\n",
              "  // Cache steps on the outputElement to make it available for the next call\n",
              "  // to uploadFilesContinue from Python.\n",
              "  outputElement.steps = steps;\n",
              "\n",
              "  return _uploadFilesContinue(outputId);\n",
              "}\n",
              "\n",
              "// This is roughly an async generator (not supported in the browser yet),\n",
              "// where there are multiple asynchronous steps and the Python side is going\n",
              "// to poll for completion of each step.\n",
              "// This uses a Promise to block the python side on completion of each step,\n",
              "// then passes the result of the previous step as the input to the next step.\n",
              "function _uploadFilesContinue(outputId) {\n",
              "  const outputElement = document.getElementById(outputId);\n",
              "  const steps = outputElement.steps;\n",
              "\n",
              "  const next = steps.next(outputElement.lastPromiseValue);\n",
              "  return Promise.resolve(next.value.promise).then((value) => {\n",
              "    // Cache the last promise value to make it available to the next\n",
              "    // step of the generator.\n",
              "    outputElement.lastPromiseValue = value;\n",
              "    return next.value.response;\n",
              "  });\n",
              "}\n",
              "\n",
              "/**\n",
              " * Generator function which is called between each async step of the upload\n",
              " * process.\n",
              " * @param {string} inputId Element ID of the input file picker element.\n",
              " * @param {string} outputId Element ID of the output display.\n",
              " * @return {!Iterable<!Object>} Iterable of next steps.\n",
              " */\n",
              "function* uploadFilesStep(inputId, outputId) {\n",
              "  const inputElement = document.getElementById(inputId);\n",
              "  inputElement.disabled = false;\n",
              "\n",
              "  const outputElement = document.getElementById(outputId);\n",
              "  outputElement.innerHTML = '';\n",
              "\n",
              "  const pickedPromise = new Promise((resolve) => {\n",
              "    inputElement.addEventListener('change', (e) => {\n",
              "      resolve(e.target.files);\n",
              "    });\n",
              "  });\n",
              "\n",
              "  const cancel = document.createElement('button');\n",
              "  inputElement.parentElement.appendChild(cancel);\n",
              "  cancel.textContent = 'Cancel upload';\n",
              "  const cancelPromise = new Promise((resolve) => {\n",
              "    cancel.onclick = () => {\n",
              "      resolve(null);\n",
              "    };\n",
              "  });\n",
              "\n",
              "  // Wait for the user to pick the files.\n",
              "  const files = yield {\n",
              "    promise: Promise.race([pickedPromise, cancelPromise]),\n",
              "    response: {\n",
              "      action: 'starting',\n",
              "    }\n",
              "  };\n",
              "\n",
              "  cancel.remove();\n",
              "\n",
              "  // Disable the input element since further picks are not allowed.\n",
              "  inputElement.disabled = true;\n",
              "\n",
              "  if (!files) {\n",
              "    return {\n",
              "      response: {\n",
              "        action: 'complete',\n",
              "      }\n",
              "    };\n",
              "  }\n",
              "\n",
              "  for (const file of files) {\n",
              "    const li = document.createElement('li');\n",
              "    li.append(span(file.name, {fontWeight: 'bold'}));\n",
              "    li.append(span(\n",
              "        `(${file.type || 'n/a'}) - ${file.size} bytes, ` +\n",
              "        `last modified: ${\n",
              "            file.lastModifiedDate ? file.lastModifiedDate.toLocaleDateString() :\n",
              "                                    'n/a'} - `));\n",
              "    const percent = span('0% done');\n",
              "    li.appendChild(percent);\n",
              "\n",
              "    outputElement.appendChild(li);\n",
              "\n",
              "    const fileDataPromise = new Promise((resolve) => {\n",
              "      const reader = new FileReader();\n",
              "      reader.onload = (e) => {\n",
              "        resolve(e.target.result);\n",
              "      };\n",
              "      reader.readAsArrayBuffer(file);\n",
              "    });\n",
              "    // Wait for the data to be ready.\n",
              "    let fileData = yield {\n",
              "      promise: fileDataPromise,\n",
              "      response: {\n",
              "        action: 'continue',\n",
              "      }\n",
              "    };\n",
              "\n",
              "    // Use a chunked sending to avoid message size limits. See b/62115660.\n",
              "    let position = 0;\n",
              "    do {\n",
              "      const length = Math.min(fileData.byteLength - position, MAX_PAYLOAD_SIZE);\n",
              "      const chunk = new Uint8Array(fileData, position, length);\n",
              "      position += length;\n",
              "\n",
              "      const base64 = btoa(String.fromCharCode.apply(null, chunk));\n",
              "      yield {\n",
              "        response: {\n",
              "          action: 'append',\n",
              "          file: file.name,\n",
              "          data: base64,\n",
              "        },\n",
              "      };\n",
              "\n",
              "      let percentDone = fileData.byteLength === 0 ?\n",
              "          100 :\n",
              "          Math.round((position / fileData.byteLength) * 100);\n",
              "      percent.textContent = `${percentDone}% done`;\n",
              "\n",
              "    } while (position < fileData.byteLength);\n",
              "  }\n",
              "\n",
              "  // All done.\n",
              "  yield {\n",
              "    response: {\n",
              "      action: 'complete',\n",
              "    }\n",
              "  };\n",
              "}\n",
              "\n",
              "scope.google = scope.google || {};\n",
              "scope.google.colab = scope.google.colab || {};\n",
              "scope.google.colab._files = {\n",
              "  _uploadFiles,\n",
              "  _uploadFilesContinue,\n",
              "};\n",
              "})(self);\n",
              "</script> "
            ]
          },
          "metadata": {}
        },
        {
          "output_type": "stream",
          "name": "stdout",
          "text": [
            "Saving assignment4_trainn.csv to assignment4_trainn.csv\n",
            "Saving Asssignment4_test.csv to Asssignment4_test.csv\n"
          ]
        }
      ],
      "source": [
        "#loading train and test data\n",
        "from google.colab import drive \n",
        "from google.colab import files\n",
        "uploaded = files.upload()"
      ]
    },
    {
      "cell_type": "code",
      "source": [
        "\n",
        "import io\n",
        "import numpy as np\n",
        "import pandas as pd\n",
        "import seaborn as sns\n",
        "from sklearn.model_selection import train_test_split\n",
        "from sklearn.tree import DecisionTreeClassifier\n",
        "from sklearn import metrics "
      ],
      "metadata": {
        "id": "Zh4HkDj-jsIf"
      },
      "execution_count": 2,
      "outputs": []
    },
    {
      "cell_type": "code",
      "source": [
        "train_data = pd.read_csv(io.BytesIO(uploaded['assignment4_trainn.csv']))\n",
        "test_data = pd.read_csv(io.BytesIO(uploaded['Asssignment4_test.csv']))\n",
        "print(train_data.head())"
      ],
      "metadata": {
        "colab": {
          "base_uri": "https://localhost:8080/"
        },
        "id": "gKcKGygQk9cN",
        "outputId": "66dadf05-2a65-44a8-eeba-e4178a05dbc8"
      },
      "execution_count": 3,
      "outputs": [
        {
          "output_type": "stream",
          "name": "stdout",
          "text": [
            "   House ID  Local Price  Bathrooms  Land Area  Living area  # Garages  \\\n",
            "0         1       4.9176        1.0      3.472        0.998        1.0   \n",
            "1         2       5.0208        1.0      3.531        1.500        2.0   \n",
            "2         3       4.5429        1.0      2.275        1.175        1.0   \n",
            "3         4       4.5573        1.0      4.050        1.232        1.0   \n",
            "4         5       5.0597        1.0      4.455        1.121        1.0   \n",
            "\n",
            "   # Rooms  # Bedrooms  Age of home Construction type  \n",
            "0        7           4           42         Apartment  \n",
            "1        7           4           62             House  \n",
            "2        6           3           40             Condo  \n",
            "3        6           3           54         Apartment  \n",
            "4        6           3           42         Apartment  \n"
          ]
        }
      ]
    },
    {
      "cell_type": "markdown",
      "source": [
        " QUESTION 2"
      ],
      "metadata": {
        "id": "4hhXRe7sButg"
      }
    },
    {
      "cell_type": "code",
      "source": [
        "x_train= train_data[['Local Price','Bathrooms','Land Area','Living area','# Garages','# Rooms','# Bedrooms','Age of home']]\n",
        "y_train= train_data[['Construction type']]\n",
        "\n",
        "x_test= test_data[['Local Price','Bathrooms','Land Area','Living area','# Garages','# Rooms','# Bedrooms','Age of home']]\n",
        "y_test= test_data[['Construction type']]"
      ],
      "metadata": {
        "id": "sjzEZe1Cnuvo"
      },
      "execution_count": 4,
      "outputs": []
    },
    {
      "cell_type": "code",
      "source": [
        "#fitting on training set\n",
        "clf = DecisionTreeClassifier(max_depth =3, random_state = 42)\n",
        "clf.fit(x_train, y_train)\n",
        "# accuracy on test set\n",
        "y_pred_test = clf.predict(x_test)\n",
        "print(y_pred_test)\n",
        "print(y_test)\n",
        "accuracy_testset= metrics.accuracy_score(y_test,y_pred_test)\n",
        "print(accuracy_testset)\n"
      ],
      "metadata": {
        "colab": {
          "base_uri": "https://localhost:8080/"
        },
        "id": "fpuMGskfppgs",
        "outputId": "5b65e5a4-fe6a-4cc6-f055-85a91d121879"
      },
      "execution_count": 5,
      "outputs": [
        {
          "output_type": "stream",
          "name": "stdout",
          "text": [
            "['Condo' 'Condo' 'Condo' 'Apartment' 'Apartment']\n",
            "  Construction type\n",
            "0         Apartment\n",
            "1             House\n",
            "2             House\n",
            "3         Apartment\n",
            "4         Apartment\n",
            "0.4\n"
          ]
        }
      ]
    },
    {
      "cell_type": "markdown",
      "source": [
        "The accuracy on the training set is 40%."
      ],
      "metadata": {
        "id": "c2lh68n6BZ9r"
      }
    },
    {
      "cell_type": "code",
      "source": [
        "# fitting on test data set\n",
        "clf2= DecisionTreeClassifier(max_depth =3, random_state = 42)\n",
        "clf2.fit(x_test,y_test)\n",
        "#accuracy on train set\n",
        "y_pred_train = clf2.predict(x_train)\n",
        "print(y_pred_train)\n",
        "accuracy_trainset = metrics.accuracy_score(y_train,y_pred_train)\n",
        "print(accuracy_trainset)"
      ],
      "metadata": {
        "colab": {
          "base_uri": "https://localhost:8080/"
        },
        "id": "6h99aNWsps1s",
        "outputId": "84a5be91-1ba6-4e17-a467-d0075070b983"
      },
      "execution_count": 6,
      "outputs": [
        {
          "output_type": "stream",
          "name": "stdout",
          "text": [
            "['Apartment' 'Apartment' 'Apartment' 'Apartment' 'Apartment' 'Apartment'\n",
            " 'Apartment' 'House' 'House' 'House' 'Apartment' 'Apartment' 'Apartment'\n",
            " 'Apartment' 'Apartment' 'House' 'Apartment' 'Apartment' 'Apartment'\n",
            " 'House']\n",
            "0.35\n"
          ]
        }
      ]
    },
    {
      "cell_type": "markdown",
      "source": [
        "The accuracy on the test set is 35%."
      ],
      "metadata": {
        "id": "JDo7-wdPBfGo"
      }
    },
    {
      "cell_type": "markdown",
      "source": [
        "Question 2.\n",
        "What is the effect of restricting the maximum depth of the tree? Try different depths and find the best value.\n",
        "\n",
        "Restricting the depth of the tree fights overfitting the decision tree. \n",
        "\n",
        "Trying max depths=[3,4,5,6,7] and finding the best value. "
      ],
      "metadata": {
        "id": "I-TbmXglxjbp"
      }
    },
    {
      "cell_type": "code",
      "source": [
        "accuracy= [ ]\n",
        "for index in range(2,15):\n",
        "  clf = DecisionTreeClassifier(max_depth =index)\n",
        "  clf.fit(x_train, y_train)\n",
        "  # accuracy on test set\n",
        "  y_pred_test = clf.predict(x_test)\n",
        "  accuracy_testset= metrics.accuracy_score(y_test,y_pred_test)\n",
        "  accuracy.append(accuracy_testset)\n",
        "  \n",
        "print(accuracy)"
      ],
      "metadata": {
        "colab": {
          "base_uri": "https://localhost:8080/"
        },
        "id": "T-mOqXpYyWkQ",
        "outputId": "b6e18a7f-b84a-4338-ce29-950b21539e07"
      },
      "execution_count": 7,
      "outputs": [
        {
          "output_type": "stream",
          "name": "stdout",
          "text": [
            "[0.6, 0.4, 0.4, 0.4, 0.4, 0.4, 0.4, 0.4, 0.4, 0.4, 0.4, 0.4, 0.4]\n"
          ]
        }
      ]
    },
    {
      "cell_type": "markdown",
      "source": [
        "using a for loop in finding the best value for max depth the anser is 2.\n",
        "max depth= 2\n",
        "the accuracy produced was 0.6== 60%"
      ],
      "metadata": {
        "id": "0_mh_n6M1P5N"
      }
    },
    {
      "cell_type": "markdown",
      "source": [
        "Why does restricting the depth have such a strong effect on the classifier performance?\n",
        "\n",
        "\n",
        "It is necesary to restrict the depth of your tree because, the deeper you allow your tree to grow, the more complex your model will become because you will have more splits and it captures more information about the data. This is one of the root causes of overfitting in decision trees because your model will fit perfectly for the training data and will not be able to fit your test data well. "
      ],
      "metadata": {
        "id": "6YUZv5Ga1jGA"
      }
    },
    {
      "cell_type": "code",
      "source": [
        "# because the best performing tree will have max depth of 2 I decided to redo my tree with depth of 2, \n",
        "#fitting on training set\n",
        "clf = DecisionTreeClassifier(max_depth =2, random_state = 42)\n",
        "clf.fit(x_train, y_train)\n",
        "# accuracy on test set\n",
        "y_pred_test = clf.predict(x_test)\n",
        "print(y_pred_test)\n",
        "print(y_test)\n",
        "accuracy_testset= metrics.accuracy_score(y_test,y_pred_test)\n",
        "print(accuracy_testset)"
      ],
      "metadata": {
        "colab": {
          "base_uri": "https://localhost:8080/"
        },
        "id": "T5es79sIBXKi",
        "outputId": "2da6dad8-adce-42cc-de28-4c8a6e4e40a0"
      },
      "execution_count": 8,
      "outputs": [
        {
          "output_type": "stream",
          "name": "stdout",
          "text": [
            "['Apartment' 'Apartment' 'House' 'Apartment' 'Apartment']\n",
            "  Construction type\n",
            "0         Apartment\n",
            "1             House\n",
            "2             House\n",
            "3         Apartment\n",
            "4         Apartment\n",
            "0.8\n"
          ]
        }
      ]
    },
    {
      "cell_type": "code",
      "source": [
        "# visualizing the tree \n",
        "#!pip install graphviz\n",
        "import graphviz\n",
        "from sklearn import tree\n",
        "fn=['Local Price','Bathrooms','Land Area','Living area','# Garages','# Rooms','# Bedrooms','Age of home']\n",
        "cn=['Apartment','House','Condo']\n",
        "tree.plot_tree(clf,feature_names=fn,class_names=cn, filled=True);\n",
        "#fig.savefig('housing.png')"
      ],
      "metadata": {
        "colab": {
          "base_uri": "https://localhost:8080/",
          "height": 248
        },
        "id": "MfRuobDC2bO0",
        "outputId": "165c007e-41e6-439b-a9d3-f4c6045393d1"
      },
      "execution_count": 9,
      "outputs": [
        {
          "output_type": "display_data",
          "data": {
            "text/plain": [
              "<Figure size 432x288 with 1 Axes>"
            ],
            "image/png": "[encoded data removed]"
          },
          "metadata": {
            "needs_background": "light"
          }
        }
      ]
    },
    {
      "cell_type": "code",
      "source": [
        "# making the prediction\n",
        "#loading prediction set\n",
        "from google.colab import drive \n",
        "from google.colab import files\n",
        "uploaded = files.upload()\n"
      ],
      "metadata": {
        "colab": {
          "base_uri": "https://localhost:8080/",
          "height": 73
        },
        "id": "qnBF8qZY8TMV",
        "outputId": "242bd270-86a8-4809-9468-14557f919188"
      },
      "execution_count": 10,
      "outputs": [
        {
          "output_type": "display_data",
          "data": {
            "text/plain": [
              "<IPython.core.display.HTML object>"
            ],
            "text/html": [
              "\n",
              "     <input type=\"file\" id=\"files-6b81876c-0453-401c-9ab9-d7a4465c3b96\" name=\"files[]\" multiple disabled\n",
              "        style=\"border:none\" />\n",
              "     <output id=\"result-6b81876c-0453-401c-9ab9-d7a4465c3b96\">\n",
              "      Upload widget is only available when the cell has been executed in the\n",
              "      current browser session. Please rerun this cell to enable.\n",
              "      </output>\n",
              "      <script>// Copyright 2017 Google LLC\n",
              "//\n",
              "// Licensed under the Apache License, Version 2.0 (the \"License\");\n",
              "// you may not use this file except in compliance with the License.\n",
              "// You may obtain a copy of the License at\n",
              "//\n",
              "//      http://www.apache.org/licenses/LICENSE-2.0\n",
              "//\n",
              "// Unless required by applicable law or agreed to in writing, software\n",
              "// distributed under the License is distributed on an \"AS IS\" BASIS,\n",
              "// WITHOUT WARRANTIES OR CONDITIONS OF ANY KIND, either express or implied.\n",
              "// See the License for the specific language governing permissions and\n",
              "// limitations under the License.\n",
              "\n",
              "/**\n",
              " * @fileoverview Helpers for google.colab Python module.\n",
              " */\n",
              "(function(scope) {\n",
              "function span(text, styleAttributes = {}) {\n",
              "  const element = document.createElement('span');\n",
              "  element.textContent = text;\n",
              "  for (const key of Object.keys(styleAttributes)) {\n",
              "    element.style[key] = styleAttributes[key];\n",
              "  }\n",
              "  return element;\n",
              "}\n",
              "\n",
              "// Max number of bytes which will be uploaded at a time.\n",
              "const MAX_PAYLOAD_SIZE = 100 * 1024;\n",
              "\n",
              "function _uploadFiles(inputId, outputId) {\n",
              "  const steps = uploadFilesStep(inputId, outputId);\n",
              "  const outputElement = document.getElementById(outputId);\n",
              "  // Cache steps on the outputElement to make it available for the next call\n",
              "  // to uploadFilesContinue from Python.\n",
              "  outputElement.steps = steps;\n",
              "\n",
              "  return _uploadFilesContinue(outputId);\n",
              "}\n",
              "\n",
              "// This is roughly an async generator (not supported in the browser yet),\n",
              "// where there are multiple asynchronous steps and the Python side is going\n",
              "// to poll for completion of each step.\n",
              "// This uses a Promise to block the python side on completion of each step,\n",
              "// then passes the result of the previous step as the input to the next step.\n",
              "function _uploadFilesContinue(outputId) {\n",
              "  const outputElement = document.getElementById(outputId);\n",
              "  const steps = outputElement.steps;\n",
              "\n",
              "  const next = steps.next(outputElement.lastPromiseValue);\n",
              "  return Promise.resolve(next.value.promise).then((value) => {\n",
              "    // Cache the last promise value to make it available to the next\n",
              "    // step of the generator.\n",
              "    outputElement.lastPromiseValue = value;\n",
              "    return next.value.response;\n",
              "  });\n",
              "}\n",
              "\n",
              "/**\n",
              " * Generator function which is called between each async step of the upload\n",
              " * process.\n",
              " * @param {string} inputId Element ID of the input file picker element.\n",
              " * @param {string} outputId Element ID of the output display.\n",
              " * @return {!Iterable<!Object>} Iterable of next steps.\n",
              " */\n",
              "function* uploadFilesStep(inputId, outputId) {\n",
              "  const inputElement = document.getElementById(inputId);\n",
              "  inputElement.disabled = false;\n",
              "\n",
              "  const outputElement = document.getElementById(outputId);\n",
              "  outputElement.innerHTML = '';\n",
              "\n",
              "  const pickedPromise = new Promise((resolve) => {\n",
              "    inputElement.addEventListener('change', (e) => {\n",
              "      resolve(e.target.files);\n",
              "    });\n",
              "  });\n",
              "\n",
              "  const cancel = document.createElement('button');\n",
              "  inputElement.parentElement.appendChild(cancel);\n",
              "  cancel.textContent = 'Cancel upload';\n",
              "  const cancelPromise = new Promise((resolve) => {\n",
              "    cancel.onclick = () => {\n",
              "      resolve(null);\n",
              "    };\n",
              "  });\n",
              "\n",
              "  // Wait for the user to pick the files.\n",
              "  const files = yield {\n",
              "    promise: Promise.race([pickedPromise, cancelPromise]),\n",
              "    response: {\n",
              "      action: 'starting',\n",
              "    }\n",
              "  };\n",
              "\n",
              "  cancel.remove();\n",
              "\n",
              "  // Disable the input element since further picks are not allowed.\n",
              "  inputElement.disabled = true;\n",
              "\n",
              "  if (!files) {\n",
              "    return {\n",
              "      response: {\n",
              "        action: 'complete',\n",
              "      }\n",
              "    };\n",
              "  }\n",
              "\n",
              "  for (const file of files) {\n",
              "    const li = document.createElement('li');\n",
              "    li.append(span(file.name, {fontWeight: 'bold'}));\n",
              "    li.append(span(\n",
              "        `(${file.type || 'n/a'}) - ${file.size} bytes, ` +\n",
              "        `last modified: ${\n",
              "            file.lastModifiedDate ? file.lastModifiedDate.toLocaleDateString() :\n",
              "                                    'n/a'} - `));\n",
              "    const percent = span('0% done');\n",
              "    li.appendChild(percent);\n",
              "\n",
              "    outputElement.appendChild(li);\n",
              "\n",
              "    const fileDataPromise = new Promise((resolve) => {\n",
              "      const reader = new FileReader();\n",
              "      reader.onload = (e) => {\n",
              "        resolve(e.target.result);\n",
              "      };\n",
              "      reader.readAsArrayBuffer(file);\n",
              "    });\n",
              "    // Wait for the data to be ready.\n",
              "    let fileData = yield {\n",
              "      promise: fileDataPromise,\n",
              "      response: {\n",
              "        action: 'continue',\n",
              "      }\n",
              "    };\n",
              "\n",
              "    // Use a chunked sending to avoid message size limits. See b/62115660.\n",
              "    let position = 0;\n",
              "    do {\n",
              "      const length = Math.min(fileData.byteLength - position, MAX_PAYLOAD_SIZE);\n",
              "      const chunk = new Uint8Array(fileData, position, length);\n",
              "      position += length;\n",
              "\n",
              "      const base64 = btoa(String.fromCharCode.apply(null, chunk));\n",
              "      yield {\n",
              "        response: {\n",
              "          action: 'append',\n",
              "          file: file.name,\n",
              "          data: base64,\n",
              "        },\n",
              "      };\n",
              "\n",
              "      let percentDone = fileData.byteLength === 0 ?\n",
              "          100 :\n",
              "          Math.round((position / fileData.byteLength) * 100);\n",
              "      percent.textContent = `${percentDone}% done`;\n",
              "\n",
              "    } while (position < fileData.byteLength);\n",
              "  }\n",
              "\n",
              "  // All done.\n",
              "  yield {\n",
              "    response: {\n",
              "      action: 'complete',\n",
              "    }\n",
              "  };\n",
              "}\n",
              "\n",
              "scope.google = scope.google || {};\n",
              "scope.google.colab = scope.google.colab || {};\n",
              "scope.google.colab._files = {\n",
              "  _uploadFiles,\n",
              "  _uploadFilesContinue,\n",
              "};\n",
              "})(self);\n",
              "</script> "
            ]
          },
          "metadata": {}
        },
        {
          "output_type": "stream",
          "name": "stdout",
          "text": [
            "Saving prediction.csv to prediction.csv\n"
          ]
        }
      ]
    },
    {
      "cell_type": "markdown",
      "source": [
        "QUESTION 2 NUMBER 4"
      ],
      "metadata": {
        "id": "Zb_vvpQTB7W7"
      }
    },
    {
      "cell_type": "code",
      "source": [
        "pred = pd.read_csv(io.BytesIO(uploaded['prediction.csv']))\n",
        "#print(pred)\n",
        "pred_data= clf.predict(pred)\n",
        "print(pred_data)"
      ],
      "metadata": {
        "colab": {
          "base_uri": "https://localhost:8080/"
        },
        "id": "qLKSOWR8AjoK",
        "outputId": "94beed6b-f841-49db-e79a-5e01242dd555"
      },
      "execution_count": 11,
      "outputs": [
        {
          "output_type": "stream",
          "name": "stdout",
          "text": [
            "['Apartment']\n"
          ]
        }
      ]
    },
    {
      "cell_type": "markdown",
      "source": [
        "based on the example, local price= 9.0384, bathrooms= 1, land area= 7.8, living area= 1.5, number of garages=1.5, number of rooms=7, number of bedrooms=3, age of home= 23, the classification is an apartment."
      ],
      "metadata": {
        "id": "Kj0PDdevA6ax"
      }
    },
    {
      "cell_type": "markdown",
      "source": [
        "QUESTION 3 KNN"
      ],
      "metadata": {
        "id": "ennFFvkDCjsJ"
      }
    },
    {
      "cell_type": "code",
      "source": [
        "from sklearn.neighbors import KNeighborsClassifier\n",
        "from sklearn import metrics\n",
        "\n",
        "# using different k and recording the accuracy\n",
        "k_range= range(1,6)\n",
        "scores={}\n",
        "scores_list=[]\n",
        "for k in k_range:\n",
        "  knn=KNeighborsClassifier(n_neighbors=k)\n",
        "  knn.fit(x_train,y_train)\n",
        "  y_pred=knn.predict(x_test)\n",
        "  scores[k]=metrics.accuracy_score(y_test,y_pred)\n",
        "  scores_list.append(metrics.accuracy_score(y_test,y_pred))\n",
        "\n",
        "\n",
        "print(scores_list)\n",
        "\n",
        "#plotting\n",
        "\n",
        "%matplotlib inline\n",
        "import matplotlib.pyplot as plt\n",
        "\n",
        "plt.plot(k_range,scores_list)\n",
        "plt.xlabel('value of k for knn')\n",
        "plt.ylabel('accuracy')\n",
        "plt.show()"
      ],
      "metadata": {
        "colab": {
          "base_uri": "https://localhost:8080/",
          "height": 486
        },
        "id": "Z4DH0Xj3EWRV",
        "outputId": "66188614-e6c8-4f15-e51a-f7fb8203cb3b"
      },
      "execution_count": 13,
      "outputs": [
        {
          "output_type": "stream",
          "name": "stderr",
          "text": [
            "/usr/local/lib/python3.7/dist-packages/sklearn/neighbors/_classification.py:198: DataConversionWarning: A column-vector y was passed when a 1d array was expected. Please change the shape of y to (n_samples,), for example using ravel().\n",
            "  return self._fit(X, y)\n",
            "/usr/local/lib/python3.7/dist-packages/sklearn/neighbors/_classification.py:198: DataConversionWarning: A column-vector y was passed when a 1d array was expected. Please change the shape of y to (n_samples,), for example using ravel().\n",
            "  return self._fit(X, y)\n",
            "/usr/local/lib/python3.7/dist-packages/sklearn/neighbors/_classification.py:198: DataConversionWarning: A column-vector y was passed when a 1d array was expected. Please change the shape of y to (n_samples,), for example using ravel().\n",
            "  return self._fit(X, y)\n",
            "/usr/local/lib/python3.7/dist-packages/sklearn/neighbors/_classification.py:198: DataConversionWarning: A column-vector y was passed when a 1d array was expected. Please change the shape of y to (n_samples,), for example using ravel().\n",
            "  return self._fit(X, y)\n",
            "/usr/local/lib/python3.7/dist-packages/sklearn/neighbors/_classification.py:198: DataConversionWarning: A column-vector y was passed when a 1d array was expected. Please change the shape of y to (n_samples,), for example using ravel().\n",
            "  return self._fit(X, y)\n"
          ]
        },
        {
          "output_type": "stream",
          "name": "stdout",
          "text": [
            "[0.2, 0.2, 0.2, 0.2, 0.2]\n"
          ]
        },
        {
          "output_type": "display_data",
          "data": {
            "text/plain": [
              "<Figure size 432x288 with 1 Axes>"
            ],
            "image/png": "[encoded data removed]"
          },
          "metadata": {
            "needs_background": "light"
          }
        }
      ]
    },
    {
      "cell_type": "markdown",
      "source": [
        "From my plot above, the accuracy of my train data stays consistent with an accuracy of 20%. I decided to choose k=5, because from k=1 through 5, the accuracy stays the same 0.2."
      ],
      "metadata": {
        "id": "IBubvJiKIJHZ"
      }
    },
    {
      "cell_type": "code",
      "source": [
        "# fitting using n_neighbors of 6\n",
        "knn= KNeighborsClassifier(n_neighbors=5)\n",
        "knn.fit(x_train,y_train)\n",
        "y_pred= knn.predict(x_test)\n",
        "print(y_pred)"
      ],
      "metadata": {
        "colab": {
          "base_uri": "https://localhost:8080/"
        },
        "id": "s_FOmpgQHXtS",
        "outputId": "d8efe025-a080-4f34-a2a2-b14111a384e8"
      },
      "execution_count": 14,
      "outputs": [
        {
          "output_type": "stream",
          "name": "stdout",
          "text": [
            "['Apartment' 'Apartment' 'Apartment' 'House' 'House']\n"
          ]
        },
        {
          "output_type": "stream",
          "name": "stderr",
          "text": [
            "/usr/local/lib/python3.7/dist-packages/sklearn/neighbors/_classification.py:198: DataConversionWarning: A column-vector y was passed when a 1d array was expected. Please change the shape of y to (n_samples,), for example using ravel().\n",
            "  return self._fit(X, y)\n"
          ]
        }
      ]
    },
    {
      "cell_type": "markdown",
      "source": [
        "  QUESTION 1"
      ],
      "metadata": {
        "id": "zFS4A11pJKeS"
      }
    },
    {
      "cell_type": "code",
      "source": [
        "# selecting the class= apartment\n",
        "apartment= train_data.loc[train_data['Construction type']=='Apartment']\n",
        "apartment=apartment[['Local Price','Bathrooms','Land Area','Living area','# Garages','# Rooms','# Bedrooms','Age of home']]\n",
        "\n",
        "\n",
        "# apartment\n",
        "lp_apartment_mean= apartment['Local Price'].mean()\n",
        "lp_apartment_var = apartment['Local Price'].var()\n",
        "\n",
        "bath_apartment_mean= apartment['Bathrooms'].mean()\n",
        "bath_apartment_var = apartment['Bathrooms'].var()\n",
        "\n",
        "la_apartment_mean= apartment['Land Area'].mean()\n",
        "la_apartment_var = apartment['Land Area'].var()\n",
        "\n",
        "livarea_apartment_mean= apartment['Living area'].mean()\n",
        "livarea_apartment_var = apartment['Living area'].var()\n",
        "\n",
        "garage_apartment_mean= apartment['# Garages'].mean()\n",
        "garage_apartment_var = apartment['# Garages'].var()\n",
        "\n",
        "rooms_apartment_mean= apartment['# Rooms'].mean()\n",
        "rooms_apartment_var = apartment['# Rooms'].var()\n",
        "\n",
        "bedrooms_apartment_mean= apartment['# Bedrooms'].mean()\n",
        "bedrooms_apartment_var = apartment['# Bedrooms'].var()\n",
        "\n",
        "age_apartment_mean= apartment['Age of home'].mean()\n",
        "age_apartment_var = apartment['Age of home'].var()\n",
        "\n",
        "\n",
        "#cal conditional prob for the class apartment\n",
        "# using the query points from the test data:\n",
        "#local price= 6.0931, bathrooms=1.5, landarea= 6.7265, living area= 1.652, garages=1,rooms=6, bedrooms=3,age=44\n",
        "\n",
        "prob_lp_apartment= -0.5*(np.log(2*np.pi*lp_apartment_var))  - 0.5*((6.0931-lp_apartment_mean)**2)/lp_apartment_var\n",
        "prob_bath_apartment = -0.5*(np.log(2*np.pi*bath_apartment_var))  - 0.5*((1.5-bath_apartment_mean)**2)/bath_apartment_var\n",
        "prob_la_apartment = -0.5*(np.log(2*np.pi*la_apartment_var))  - 0.5*((6.7265-la_apartment_mean)**2)/la_apartment_var\n",
        "prob_livarea_apartment= -0.5*(np.log(2*np.pi*livarea_apartment_var))  - 0.5*((1.652-livarea_apartment_mean)**2)/livarea_apartment_var\n",
        "prob_garage_apartment = -0.5*(np.log(2*np.pi*garage_apartment_var))  - 0.5*((1-garage_apartment_mean)**2)/garage_apartment_var\n",
        "prob_rooms_apartment = -0.5*(np.log(2*np.pi*rooms_apartment_var))  - 0.5*((6-rooms_apartment_mean)**2)/rooms_apartment_var\n",
        "prob_bedrooms_apartment = -0.5*(np.log(2*np.pi*bedrooms_apartment_var))  - 0.5*((3-bedrooms_apartment_mean)**2)/bedrooms_apartment_var\n",
        "prob_age_apartment = -0.5*(np.log(2*np.pi*age_apartment_var))  - 0.5*((44-age_apartment_mean)**2)/age_apartment_var\n",
        "\n",
        "\n",
        "# posterior of apartment for the first query point\n",
        "prob_apartment= 0.35\n",
        "prosteior_apartment= prob_apartment * prob_lp_apartment * prob_bath_apartment * prob_la_apartment * prob_livarea_apartment * prob_garage_apartment * prob_rooms_apartment * prob_bedrooms_apartment * prob_age_apartment\n",
        "#print(prosteior_apartment)\n",
        "\n",
        "\n",
        "\n",
        "\n",
        "\n",
        "# selecting the class= house \n",
        "house= train_data.loc[train_data['Construction type']=='House']\n",
        "house=house[['Local Price','Bathrooms','Land Area','Living area','# Garages','# Rooms','# Bedrooms','Age of home']]\n",
        "#print(house)\n",
        "\n",
        "lp_house_mean= house['Local Price'].mean()\n",
        "lp_house_var = house['Local Price'].var()\n",
        "\n",
        "bath_house_mean= house['Bathrooms'].mean()\n",
        "bath_house_var = house['Bathrooms'].var()\n",
        "\n",
        "la_house_mean= house['Land Area'].mean()\n",
        "la_house_var = house['Land Area'].var()\n",
        "\n",
        "livarea_house_mean= house['Living area'].mean()\n",
        "livarea_house_var = house['Living area'].var()\n",
        "\n",
        "garage_house_mean= house['# Garages'].mean()\n",
        "garage_house_var = house['# Garages'].var()\n",
        "\n",
        "rooms_house_mean= house['# Rooms'].mean()\n",
        "rooms_house_var = house['# Rooms'].var()\n",
        "\n",
        "bedrooms_house_mean= house['# Bedrooms'].mean()\n",
        "bedrooms_house_var = house['# Bedrooms'].var()\n",
        "\n",
        "age_house_mean= house['Age of home'].mean()\n",
        "age_house_var = house['Age of home'].var()\n",
        "\n",
        "#cal conditional prob for the class house\n",
        "# using the query points from the test data:\n",
        "#local price= 6.0931, bathrooms=1.5, landarea= 6.7265, living area= 1.652, garages=1,rooms=6, bedrooms=3,age=44\n",
        "\n",
        "prob_lp_house= -0.5*(np.log(2*np.pi*lp_house_var))  - 0.5*((6.0931-lp_house_mean)**2)/lp_house_var\n",
        "prob_bath_house = -0.5*(np.log(2*np.pi*bath_house_var))  - 0.5*((1.5-bath_house_mean)**2)/bath_house_var\n",
        "prob_la_house = -0.5*(np.log(2*np.pi*la_house_var))  - 0.5*((6.7265-la_house_mean)**2)/la_house_var\n",
        "prob_livarea_house= -0.5*(np.log(2*np.pi*livarea_house_var))  - 0.5*((1.652-livarea_house_mean)**2)/livarea_house_var\n",
        "prob_garage_house = -0.5*(np.log(2*np.pi*garage_house_var))  - 0.5*((1-garage_house_mean)**2)/garage_house_var\n",
        "prob_rooms_house = -0.5*(np.log(2*np.pi*rooms_house_var))  - 0.5*((6-rooms_house_mean)**2)/rooms_house_var\n",
        "prob_bedrooms_house = -0.5*(np.log(2*np.pi*bedrooms_house_var))  - 0.5*((3-bedrooms_house_mean)**2)/bedrooms_house_var\n",
        "prob_age_house = -0.5*(np.log(2*np.pi*age_house_var))  - 0.5*((44-age_house_mean)**2)/age_house_var\n",
        "\n",
        "\n",
        "# posterior of apartment for the first query point\n",
        "prob_house= 0.35\n",
        "prosteior_house= prob_house * prob_lp_house * prob_bath_house * prob_la_house * prob_livarea_house * prob_garage_house * prob_rooms_house * prob_bedrooms_house * prob_age_house\n",
        "#print(prosteior_house)\n",
        "\n",
        "\n",
        "\n",
        "\n",
        "\n",
        "\n",
        "# selecting the class = condo \n",
        "condo= train_data.loc[train_data['Construction type']=='Condo']\n",
        "condo=condo[['Local Price','Bathrooms','Land Area','Living area','# Garages','# Rooms','# Bedrooms','Age of home']]\n",
        "\n",
        "\n",
        "lp_condo_mean= condo['Local Price'].mean()\n",
        "lp_condo_var = condo['Local Price'].var()\n",
        "\n",
        "bath_condo_mean= condo['Bathrooms'].mean()\n",
        "bath_condo_var = condo['Bathrooms'].var()\n",
        "\n",
        "la_condo_mean= condo['Land Area'].mean()\n",
        "la_condo_var = condo['Land Area'].var()\n",
        "\n",
        "livarea_condo_mean= condo['Living area'].mean()\n",
        "livarea_condo_var = condo['Living area'].var()\n",
        "\n",
        "garage_condo_mean= condo['# Garages'].mean()\n",
        "garage_condo_var = condo['# Garages'].var()\n",
        "\n",
        "rooms_condo_mean= condo['# Rooms'].mean()\n",
        "rooms_condo_var = condo['# Rooms'].var()\n",
        "\n",
        "bedrooms_condo_mean= condo['# Bedrooms'].mean()\n",
        "bedrooms_condo_var = condo['# Bedrooms'].var()\n",
        "\n",
        "age_condo_mean= condo['Age of home'].mean()\n",
        "age_condo_var = condo['Age of home'].var()\n",
        "\n",
        "#cal conditional prob for the class condo\n",
        "# using the first query points from the test data:\n",
        "\n",
        "#local price= 6.0931, bathrooms=1.5, landarea= 6.7265, living area= 1.652, garages=1,rooms=6, bedrooms=3,age=44\n",
        "prob_lp_condo= -0.5*(np.log(2*np.pi*lp_condo_var))  - 0.5*((6.0931-lp_condo_mean)**2)/lp_condo_var\n",
        "prob_bath_condo = -0.5*(np.log(2*np.pi*bath_condo_var))  - 0.5*((1.5-bath_condo_mean)**2)/bath_condo_var\n",
        "prob_la_condo = -0.5*(np.log(2*np.pi*la_condo_var))  - 0.5*((6.7265-la_condo_mean)**2)/la_condo_var\n",
        "prob_livarea_condo= -0.5*(np.log(2*np.pi*livarea_condo_var))  - 0.5*((1.652-livarea_condo_mean)**2)/livarea_condo_var\n",
        "prob_garage_condo = -0.5*(np.log(2*np.pi*garage_condo_var))  - 0.5*((1-garage_condo_mean)**2)/garage_condo_var\n",
        "prob_rooms_condo = -0.5*(np.log(2*np.pi*rooms_condo_var))  - 0.5*((6-rooms_condo_mean)**2)/rooms_condo_var\n",
        "prob_bedrooms_condo = -0.5*(np.log(2*np.pi*bedrooms_condo_var))  - 0.5*((3-bedrooms_condo_mean)**2)/bedrooms_condo_var\n",
        "prob_age_condo = -0.5*(np.log(2*np.pi*age_condo_var))  - 0.5*((44-age_condo_mean)**2)/age_condo_var\n",
        "\n",
        "\n",
        "# posterior of apartment for the first query point\n",
        "prob_condo= 0.35\n",
        "prosteior_condo= prob_condo * prob_lp_condo * prob_bath_condo * prob_la_condo * prob_livarea_condo * prob_garage_condo * prob_rooms_condo * prob_bedrooms_condo * prob_age_condo\n",
        "\n",
        "\n",
        "prosterior_sample1= [prosteior_apartment,prosteior_house,prosteior_condo]\n",
        "classification_sample1= max(prosterior_sample1)\n",
        "print('prosteior_apartment:',prosteior_apartment)\n",
        "print('prosteior_house:',prosteior_house)\n",
        "print('prosteior_condo:',prosteior_condo)\n",
        "print('final classification: apartment = ',classification_sample1)\n"
      ],
      "metadata": {
        "colab": {
          "base_uri": "https://localhost:8080/"
        },
        "id": "tLKXw6ud3tG1",
        "outputId": "72c8981e-14fe-4d82-aead-411af09d062b"
      },
      "execution_count": 17,
      "outputs": [
        {
          "output_type": "stream",
          "name": "stdout",
          "text": [
            "prosteior_apartment: 1.3116616574566278\n",
            "prosteior_house: 0.04092886499223835\n",
            "prosteior_condo: 1.2983570411097662\n",
            "final classification: apartment =  1.3116616574566278\n"
          ]
        }
      ]
    },
    {
      "cell_type": "code",
      "source": [
        "\n",
        "# using the second query points from the test data:\n",
        "#local price= 8.3607, bathrooms=1.5, landarea= 9.15, living area= 1.777, garages=2,rooms=8, bedrooms=4,age=48\n",
        "\n",
        "\n",
        "\n",
        "#cal conditional prob for the class apartment\n",
        "prob_lp_apartment= -0.5*(np.log(2*np.pi*lp_apartment_var))  - 0.5*((8.3607-lp_apartment_mean)**2)/lp_apartment_var\n",
        "prob_bath_apartment = -0.5*(np.log(2*np.pi*bath_apartment_var))  - 0.5*((1.5-bath_apartment_mean)**2)/bath_apartment_var\n",
        "prob_la_apartment = -0.5*(np.log(2*np.pi*la_apartment_var))  - 0.5*((9.15-la_apartment_mean)**2)/la_apartment_var\n",
        "prob_livarea_apartment= -0.5*(np.log(2*np.pi*livarea_apartment_var))  - 0.5*((1.777-livarea_apartment_mean)**2)/livarea_apartment_var\n",
        "prob_garage_apartment = -0.5*(np.log(2*np.pi*garage_apartment_var))  - 0.5*((2-garage_apartment_mean)**2)/garage_apartment_var\n",
        "prob_rooms_apartment = -0.5*(np.log(2*np.pi*rooms_apartment_var))  - 0.5*((8-rooms_apartment_mean)**2)/rooms_apartment_var\n",
        "prob_bedrooms_apartment = -0.5*(np.log(2*np.pi*bedrooms_apartment_var))  - 0.5*((4-bedrooms_apartment_mean)**2)/bedrooms_apartment_var\n",
        "prob_age_apartment = -0.5*(np.log(2*np.pi*age_apartment_var))  - 0.5*((48-age_apartment_mean)**2)/age_apartment_var\n",
        "\n",
        "\n",
        "# posterior of apartment for the query point\n",
        "prob_apartment= 0.35\n",
        "prosteior_apartment= prob_apartment * prob_lp_apartment * prob_bath_apartment * prob_la_apartment * prob_livarea_apartment * prob_garage_apartment * prob_rooms_apartment * prob_bedrooms_apartment * prob_age_apartment\n",
        "#print(prosteior_apartment)\n",
        "\n",
        "\n",
        "\n",
        "\n",
        "#cal conditional prob for the class house\n",
        "# using the query points from the test data:\n",
        "#local price= 8.3607, bathrooms=1.5, landarea= 9.15, living area= 1.777, garages=2,rooms=8, bedrooms=4,age=48\n",
        "\n",
        "prob_lp_house= -0.5*(np.log(2*np.pi*lp_house_var))  - 0.5*((8.3607-lp_house_mean)**2)/lp_house_var\n",
        "prob_bath_house = -0.5*(np.log(2*np.pi*bath_house_var))  - 0.5*((1.5-bath_house_mean)**2)/bath_house_var\n",
        "prob_la_house = -0.5*(np.log(2*np.pi*la_house_var))  - 0.5*((9.15-la_house_mean)**2)/la_house_var\n",
        "prob_livarea_house= -0.5*(np.log(2*np.pi*livarea_house_var))  - 0.5*((1.777-livarea_house_mean)**2)/livarea_house_var\n",
        "prob_garage_house = -0.5*(np.log(2*np.pi*garage_house_var))  - 0.5*((2-garage_house_mean)**2)/garage_house_var\n",
        "prob_rooms_house = -0.5*(np.log(2*np.pi*rooms_house_var))  - 0.5*((8-rooms_house_mean)**2)/rooms_house_var\n",
        "prob_bedrooms_house = -0.5*(np.log(2*np.pi*bedrooms_house_var))  - 0.5*((4-bedrooms_house_mean)**2)/bedrooms_house_var\n",
        "prob_age_house = -0.5*(np.log(2*np.pi*age_house_var))  - 0.5*((48-age_house_mean)**2)/age_house_var\n",
        "\n",
        "\n",
        "# posterior of apartment for the first query point\n",
        "prob_house= 0.35\n",
        "prosteior_house= prob_house * prob_lp_house * prob_bath_house * prob_la_house * prob_livarea_house * prob_garage_house * prob_rooms_house * prob_bedrooms_house * prob_age_house\n",
        "#print(prosteior_house)\n",
        "\n",
        "\n",
        "\n",
        "#cal conditional prob for the class condo\n",
        "# using the query points from the test data:\n",
        "#local price= 8.3607, bathrooms=1.5, landarea= 9.15, living area= 1.777, garages=2,rooms=8, bedrooms=4,age=48\n",
        "prob_lp_condo= -0.5*(np.log(2*np.pi*lp_condo_var))  - 0.5*((8.3607-lp_condo_mean)**2)/lp_condo_var\n",
        "prob_bath_condo = -0.5*(np.log(2*np.pi*bath_condo_var))  - 0.5*((1.5-bath_condo_mean)**2)/bath_condo_var\n",
        "prob_la_condo = -0.5*(np.log(2*np.pi*la_condo_var))  - 0.5*((9.15-la_condo_mean)**2)/la_condo_var\n",
        "prob_livarea_condo= -0.5*(np.log(2*np.pi*livarea_condo_var))  - 0.5*((1.777-livarea_condo_mean)**2)/livarea_condo_var\n",
        "prob_garage_condo = -0.5*(np.log(2*np.pi*garage_condo_var))  - 0.5*((2-garage_condo_mean)**2)/garage_condo_var\n",
        "prob_rooms_condo = -0.5*(np.log(2*np.pi*rooms_condo_var))  - 0.5*((8-rooms_condo_mean)**2)/rooms_condo_var\n",
        "prob_bedrooms_condo = -0.5*(np.log(2*np.pi*bedrooms_condo_var))  - 0.5*((4-bedrooms_condo_mean)**2)/bedrooms_condo_var\n",
        "prob_age_condo = -0.5*(np.log(2*np.pi*age_condo_var))  - 0.5*((48-age_condo_mean)**2)/age_condo_var\n",
        "\n",
        "\n",
        "# posterior of apartment for the first query point\n",
        "prob_condo= 0.30\n",
        "prosteior_condo= prob_condo * prob_lp_condo * prob_bath_condo * prob_la_condo * prob_livarea_condo * prob_garage_condo * prob_rooms_condo * prob_bedrooms_condo * prob_age_condo\n",
        "\n",
        "\n",
        "prosterior_sample2= [prosteior_apartment,prosteior_house,prosteior_condo]\n",
        "classification_sample2= max(prosterior_sample2)\n",
        "print('prosteior_apartment:',prosteior_apartment)\n",
        "print('prosteior_house:',prosteior_house)\n",
        "print('prosteior_condo:',prosteior_condo)\n",
        "print('final classification: House = ',classification_sample2)\n"
      ],
      "metadata": {
        "colab": {
          "base_uri": "https://localhost:8080/"
        },
        "id": "C68-MwBbVego",
        "outputId": "076f5df4-6ff1-4351-d143-c9af6430f889"
      },
      "execution_count": 18,
      "outputs": [
        {
          "output_type": "stream",
          "name": "stdout",
          "text": [
            "prosteior_apartment: 4.132204056936123\n",
            "prosteior_house: 698.1618355967717\n",
            "prosteior_condo: 5.403081390366405\n",
            "final classification: House =  698.1618355967717\n"
          ]
        }
      ]
    },
    {
      "cell_type": "code",
      "source": [
        "# using the third query points from the test data:\n",
        "#local price= 8.14, bathrooms=1, landarea= 8, living area= 1.504, garages=2,rooms=7, bedrooms=3,age=3\n",
        "\n",
        "\n",
        "\n",
        "#cal conditional prob for the class apartment\n",
        "prob_lp_apartment= -0.5*(np.log(2*np.pi*lp_apartment_var))  - 0.5*((8.14-lp_apartment_mean)**2)/lp_apartment_var\n",
        "prob_bath_apartment = -0.5*(np.log(2*np.pi*bath_apartment_var))  - 0.5*((1-bath_apartment_mean)**2)/bath_apartment_var\n",
        "prob_la_apartment = -0.5*(np.log(2*np.pi*la_apartment_var))  - 0.5*((8-la_apartment_mean)**2)/la_apartment_var\n",
        "prob_livarea_apartment= -0.5*(np.log(2*np.pi*livarea_apartment_var))  - 0.5*((1.504-livarea_apartment_mean)**2)/livarea_apartment_var\n",
        "prob_garage_apartment = -0.5*(np.log(2*np.pi*garage_apartment_var))  - 0.5*((2-garage_apartment_mean)**2)/garage_apartment_var\n",
        "prob_rooms_apartment = -0.5*(np.log(2*np.pi*rooms_apartment_var))  - 0.5*((7-rooms_apartment_mean)**2)/rooms_apartment_var\n",
        "prob_bedrooms_apartment = -0.5*(np.log(2*np.pi*bedrooms_apartment_var))  - 0.5*((3-bedrooms_apartment_mean)**2)/bedrooms_apartment_var\n",
        "prob_age_apartment = -0.5*(np.log(2*np.pi*age_apartment_var))  - 0.5*((3-age_apartment_mean)**2)/age_apartment_var\n",
        "\n",
        "\n",
        "# posterior of apartment for the query point\n",
        "prob_apartment= 0.35\n",
        "prosteior_apartment= prob_apartment * prob_lp_apartment * prob_bath_apartment * prob_la_apartment * prob_livarea_apartment * prob_garage_apartment * prob_rooms_apartment * prob_bedrooms_apartment * prob_age_apartment\n",
        "#print(prosteior_apartment)\n",
        "\n",
        "\n",
        "\n",
        "\n",
        "#cal conditional prob for the class house\n",
        "# using the query points from the test data:\n",
        "#local price= 8.14, bathrooms=1, landarea= 8, living area= 1.504, garages=2,rooms=7, bedrooms=3,age=3\n",
        "\n",
        "prob_lp_house= -0.5*(np.log(2*np.pi*lp_house_var))  - 0.5*((8.14-lp_house_mean)**2)/lp_house_var\n",
        "prob_bath_house = -0.5*(np.log(2*np.pi*bath_house_var))  - 0.5*((1-bath_house_mean)**2)/bath_house_var\n",
        "prob_la_house = -0.5*(np.log(2*np.pi*la_house_var))  - 0.5*((8-la_house_mean)**2)/la_house_var\n",
        "prob_livarea_house= -0.5*(np.log(2*np.pi*livarea_house_var))  - 0.5*((1.504-livarea_house_mean)**2)/livarea_house_var\n",
        "prob_garage_house = -0.5*(np.log(2*np.pi*garage_house_var))  - 0.5*((2-garage_house_mean)**2)/garage_house_var\n",
        "prob_rooms_house = -0.5*(np.log(2*np.pi*rooms_house_var))  - 0.5*((7-rooms_house_mean)**2)/rooms_house_var\n",
        "prob_bedrooms_house = -0.5*(np.log(2*np.pi*bedrooms_house_var))  - 0.5*((3-bedrooms_house_mean)**2)/bedrooms_house_var\n",
        "prob_age_house = -0.5*(np.log(2*np.pi*age_house_var))  - 0.5*((3-age_house_mean)**2)/age_house_var\n",
        "\n",
        "\n",
        "# posterior of apartment for the first query point\n",
        "prob_house= 0.35\n",
        "prosteior_house= prob_house * prob_lp_house * prob_bath_house * prob_la_house * prob_livarea_house * prob_garage_house * prob_rooms_house * prob_bedrooms_house * prob_age_house\n",
        "#print(prosteior_house)\n",
        "\n",
        "\n",
        "\n",
        "#cal conditional prob for the class condo\n",
        "# using the query points from the test data:\n",
        "#local price= 8.14, bathrooms=1, landarea= 8, living area= 1.504, garages=2,rooms=7, bedrooms=3,age=3\n",
        "\n",
        "prob_lp_condo= -0.5*(np.log(2*np.pi*lp_condo_var))  - 0.5*((8.14-lp_condo_mean)**2)/lp_condo_var\n",
        "prob_bath_condo = -0.5*(np.log(2*np.pi*bath_condo_var))  - 0.5*((1-bath_condo_mean)**2)/bath_condo_var\n",
        "prob_la_condo = -0.5*(np.log(2*np.pi*la_condo_var))  - 0.5*((8-la_condo_mean)**2)/la_condo_var\n",
        "prob_livarea_condo= -0.5*(np.log(2*np.pi*livarea_condo_var))  - 0.5*((1.504-livarea_condo_mean)**2)/livarea_condo_var\n",
        "prob_garage_condo = -0.5*(np.log(2*np.pi*garage_condo_var))  - 0.5*((2-garage_condo_mean)**2)/garage_condo_var\n",
        "prob_rooms_condo = -0.5*(np.log(2*np.pi*rooms_condo_var))  - 0.5*((7-rooms_condo_mean)**2)/rooms_condo_var\n",
        "prob_bedrooms_condo = -0.5*(np.log(2*np.pi*bedrooms_condo_var))  - 0.5*((3-bedrooms_condo_mean)**2)/bedrooms_condo_var\n",
        "prob_age_condo = -0.5*(np.log(2*np.pi*age_condo_var))  - 0.5*((3-age_condo_mean)**2)/age_condo_var\n",
        "\n",
        "\n",
        "# posterior of apartment for the first query point\n",
        "prob_condo= 0.30\n",
        "prosteior_condo= prob_condo * prob_lp_condo * prob_bath_condo * prob_la_condo * prob_livarea_condo * prob_garage_condo * prob_rooms_condo * prob_bedrooms_condo * prob_age_condo\n",
        "\n",
        "\n",
        "prosterior_sample3= [prosteior_apartment,prosteior_house,prosteior_condo]\n",
        "classification_sample3= max(prosterior_sample3)\n",
        "print('prosteior_apartment:',prosteior_apartment)\n",
        "print('prosteior_house:',prosteior_house)\n",
        "print('prosteior_condo:',prosteior_condo)\n",
        "print('final classification: House = ',classification_sample3)"
      ],
      "metadata": {
        "colab": {
          "base_uri": "https://localhost:8080/"
        },
        "id": "rVd1hxPGYaRH",
        "outputId": "5112837e-f228-4707-87cf-0a4bffc592df"
      },
      "execution_count": 19,
      "outputs": [
        {
          "output_type": "stream",
          "name": "stdout",
          "text": [
            "prosteior_apartment: 4.55969173639582\n",
            "prosteior_house: 8.60671992987059\n",
            "prosteior_condo: 6.487868491726928\n",
            "final classification: House =  8.60671992987059\n"
          ]
        }
      ]
    },
    {
      "cell_type": "code",
      "source": [
        "# using the fourth query points from the test data:\n",
        "#local price= 9.1416, bathrooms=1.5, landarea= 7.3262, living area= 1.831, garages=1.5,rooms=8, bedrooms=4,age=31\n",
        "\n",
        "\n",
        "\n",
        "#cal conditional prob for the class apartment\n",
        "prob_lp_apartment= -0.5*(np.log(2*np.pi*lp_apartment_var))  - 0.5*((9.1416-lp_apartment_mean)**2)/lp_apartment_var\n",
        "prob_bath_apartment = -0.5*(np.log(2*np.pi*bath_apartment_var))  - 0.5*((1.5-bath_apartment_mean)**2)/bath_apartment_var\n",
        "prob_la_apartment = -0.5*(np.log(2*np.pi*la_apartment_var))  - 0.5*((7.3262-la_apartment_mean)**2)/la_apartment_var\n",
        "prob_livarea_apartment= -0.5*(np.log(2*np.pi*livarea_apartment_var))  - 0.5*((1.831-livarea_apartment_mean)**2)/livarea_apartment_var\n",
        "prob_garage_apartment = -0.5*(np.log(2*np.pi*garage_apartment_var))  - 0.5*((1.5-garage_apartment_mean)**2)/garage_apartment_var\n",
        "prob_rooms_apartment = -0.5*(np.log(2*np.pi*rooms_apartment_var))  - 0.5*((8-rooms_apartment_mean)**2)/rooms_apartment_var\n",
        "prob_bedrooms_apartment = -0.5*(np.log(2*np.pi*bedrooms_apartment_var))  - 0.5*((4-bedrooms_apartment_mean)**2)/bedrooms_apartment_var\n",
        "prob_age_apartment = -0.5*(np.log(2*np.pi*age_apartment_var))  - 0.5*((31-age_apartment_mean)**2)/age_apartment_var\n",
        "\n",
        "\n",
        "# posterior of apartment for the query point\n",
        "prob_apartment= 0.35\n",
        "prosteior_apartment= prob_apartment * prob_lp_apartment * prob_bath_apartment * prob_la_apartment * prob_livarea_apartment * prob_garage_apartment * prob_rooms_apartment * prob_bedrooms_apartment * prob_age_apartment\n",
        "#print(prosteior_apartment)\n",
        "\n",
        "\n",
        "\n",
        "\n",
        "#cal conditional prob for the class house\n",
        "# using the query points from the test data:\n",
        "#local price= 9.1416, bathrooms=1.5, landarea= 7.3262, living area= 1.831, garages=1.5,rooms=8, bedrooms=4,age=31\n",
        "\n",
        "prob_lp_house= -0.5*(np.log(2*np.pi*lp_house_var))  - 0.5*((9.1416-lp_house_mean)**2)/lp_house_var\n",
        "prob_bath_house = -0.5*(np.log(2*np.pi*bath_house_var))  - 0.5*((1.5-bath_house_mean)**2)/bath_house_var\n",
        "prob_la_house = -0.5*(np.log(2*np.pi*la_house_var))  - 0.5*((7.3262-la_house_mean)**2)/la_house_var\n",
        "prob_livarea_house= -0.5*(np.log(2*np.pi*livarea_house_var))  - 0.5*((1.831-livarea_house_mean)**2)/livarea_house_var\n",
        "prob_garage_house = -0.5*(np.log(2*np.pi*garage_house_var))  - 0.5*((1.5-garage_house_mean)**2)/garage_house_var\n",
        "prob_rooms_house = -0.5*(np.log(2*np.pi*rooms_house_var))  - 0.5*((7-rooms_house_mean)**2)/rooms_house_var\n",
        "prob_bedrooms_house = -0.5*(np.log(2*np.pi*bedrooms_house_var))  - 0.5*((8-bedrooms_house_mean)**2)/bedrooms_house_var\n",
        "prob_age_house = -0.5*(np.log(2*np.pi*age_house_var))  - 0.5*((31-age_house_mean)**2)/age_house_var\n",
        "\n",
        "\n",
        "# posterior of apartment for the first query point\n",
        "prob_house= 0.35\n",
        "prosteior_house= prob_house * prob_lp_house * prob_bath_house * prob_la_house * prob_livarea_house * prob_garage_house * prob_rooms_house * prob_bedrooms_house * prob_age_house\n",
        "#print(prosteior_house)\n",
        "\n",
        "\n",
        "\n",
        "#cal conditional prob for the class condo\n",
        "# using the query points from the test data:\n",
        "#local price= 9.1416, bathrooms=1.5, landarea= 7.3262, living area= 1.831, garages=1.5,rooms=8, bedrooms=4,age=31\n",
        "\n",
        "prob_lp_condo= -0.5*(np.log(2*np.pi*lp_condo_var))  - 0.5*((9.1416-lp_condo_mean)**2)/lp_condo_var\n",
        "prob_bath_condo = -0.5*(np.log(2*np.pi*bath_condo_var))  - 0.5*((1.5-bath_condo_mean)**2)/bath_condo_var\n",
        "prob_la_condo = -0.5*(np.log(2*np.pi*la_condo_var))  - 0.5*((7.3262-la_condo_mean)**2)/la_condo_var\n",
        "prob_livarea_condo= -0.5*(np.log(2*np.pi*livarea_condo_var))  - 0.5*((1.831-livarea_condo_mean)**2)/livarea_condo_var\n",
        "prob_garage_condo = -0.5*(np.log(2*np.pi*garage_condo_var))  - 0.5*((1.5-garage_condo_mean)**2)/garage_condo_var\n",
        "prob_rooms_condo = -0.5*(np.log(2*np.pi*rooms_condo_var))  - 0.5*((8-rooms_condo_mean)**2)/rooms_condo_var\n",
        "prob_bedrooms_condo = -0.5*(np.log(2*np.pi*bedrooms_condo_var))  - 0.5*((4-bedrooms_condo_mean)**2)/bedrooms_condo_var\n",
        "prob_age_condo = -0.5*(np.log(2*np.pi*age_condo_var))  - 0.5*((31-age_condo_mean)**2)/age_condo_var\n",
        "\n",
        "\n",
        "# posterior of apartment for the query point\n",
        "prob_condo= 0.30\n",
        "prosteior_condo= prob_condo * prob_lp_condo * prob_bath_condo * prob_la_condo * prob_livarea_condo * prob_garage_condo * prob_rooms_condo * prob_bedrooms_condo * prob_age_condo\n",
        "\n",
        "\n",
        "prosterior_sample4= [prosteior_apartment,prosteior_house,prosteior_condo]\n",
        "classification_sample4= max(prosterior_sample4)\n",
        "print('prosteior_apartment:',prosteior_apartment)\n",
        "print('prosteior_house:',prosteior_house)\n",
        "print('prosteior_condo:',prosteior_condo)\n",
        "print('final classification: House = ',classification_sample4)"
      ],
      "metadata": {
        "colab": {
          "base_uri": "https://localhost:8080/"
        },
        "id": "jR3A5zP2a8db",
        "outputId": "c2ada1bf-193a-442b-9e49-f41294a286ff"
      },
      "execution_count": 20,
      "outputs": [
        {
          "output_type": "stream",
          "name": "stdout",
          "text": [
            "prosteior_apartment: 2.0471009069530037\n",
            "prosteior_house: 4657.474728801268\n",
            "prosteior_condo: 1.2180036652732016\n",
            "final classification: House =  4657.474728801268\n"
          ]
        }
      ]
    },
    {
      "cell_type": "code",
      "source": [
        "# using the fifth query points from the test data:\n",
        "#local price= 12, bathrooms=1.5, landarea= 5, living area= 1.2, garages=2,rooms=6, bedrooms=3,age=30\n",
        "\n",
        "\n",
        "\n",
        "#cal conditional prob for the class apartment\n",
        "prob_lp_apartment= -0.5*(np.log(2*np.pi*lp_apartment_var))  - 0.5*((12-lp_apartment_mean)**2)/lp_apartment_var\n",
        "prob_bath_apartment = -0.5*(np.log(2*np.pi*bath_apartment_var))  - 0.5*((1.5-bath_apartment_mean)**2)/bath_apartment_var\n",
        "prob_la_apartment = -0.5*(np.log(2*np.pi*la_apartment_var))  - 0.5*((5-la_apartment_mean)**2)/la_apartment_var\n",
        "prob_livarea_apartment= -0.5*(np.log(2*np.pi*livarea_apartment_var))  - 0.5*((1.2-livarea_apartment_mean)**2)/livarea_apartment_var\n",
        "prob_garage_apartment = -0.5*(np.log(2*np.pi*garage_apartment_var))  - 0.5*((2-garage_apartment_mean)**2)/garage_apartment_var\n",
        "prob_rooms_apartment = -0.5*(np.log(2*np.pi*rooms_apartment_var))  - 0.5*((6-rooms_apartment_mean)**2)/rooms_apartment_var\n",
        "prob_bedrooms_apartment = -0.5*(np.log(2*np.pi*bedrooms_apartment_var))  - 0.5*((3-bedrooms_apartment_mean)**2)/bedrooms_apartment_var\n",
        "prob_age_apartment = -0.5*(np.log(2*np.pi*age_apartment_var))  - 0.5*((30-age_apartment_mean)**2)/age_apartment_var\n",
        "\n",
        "\n",
        "# posterior of apartment for the query point\n",
        "prob_apartment= 0.35\n",
        "prosteior_apartment= prob_apartment * prob_lp_apartment * prob_bath_apartment * prob_la_apartment * prob_livarea_apartment * prob_garage_apartment * prob_rooms_apartment * prob_bedrooms_apartment * prob_age_apartment\n",
        "#print(prosteior_apartment)\n",
        "\n",
        "\n",
        "\n",
        "\n",
        "#cal conditional prob for the class house\n",
        "# using the query points from the test data:\n",
        "#local price= 12, bathrooms=1.5, landarea= 5, living area= 1.2, garages=2,rooms=6, bedrooms=3,age=30\n",
        "\n",
        "prob_lp_house= -0.5*(np.log(2*np.pi*lp_house_var))  - 0.5*((12-lp_house_mean)**2)/lp_house_var\n",
        "prob_bath_house = -0.5*(np.log(2*np.pi*bath_house_var))  - 0.5*((1.5-bath_house_mean)**2)/bath_house_var\n",
        "prob_la_house = -0.5*(np.log(2*np.pi*la_house_var))  - 0.5*((5-la_house_mean)**2)/la_house_var\n",
        "prob_livarea_house= -0.5*(np.log(2*np.pi*livarea_house_var))  - 0.5*((1.2-livarea_house_mean)**2)/livarea_house_var\n",
        "prob_garage_house = -0.5*(np.log(2*np.pi*garage_house_var))  - 0.5*((2-garage_house_mean)**2)/garage_house_var\n",
        "prob_rooms_house = -0.5*(np.log(2*np.pi*rooms_house_var))  - 0.5*((6-rooms_house_mean)**2)/rooms_house_var\n",
        "prob_bedrooms_house = -0.5*(np.log(2*np.pi*bedrooms_house_var))  - 0.5*((3-bedrooms_house_mean)**2)/bedrooms_house_var\n",
        "prob_age_house = -0.5*(np.log(2*np.pi*age_house_var))  - 0.5*((30-age_house_mean)**2)/age_house_var\n",
        "\n",
        "\n",
        "# posterior of apartment for the first query point\n",
        "prob_house= 0.35\n",
        "prosteior_house= prob_house * prob_lp_house * prob_bath_house * prob_la_house * prob_livarea_house * prob_garage_house * prob_rooms_house * prob_bedrooms_house * prob_age_house\n",
        "#print(prosteior_house)\n",
        "\n",
        "\n",
        "\n",
        "#cal conditional prob for the class condo\n",
        "# using the query points from the test data:\n",
        "#local price= 12, bathrooms=1.5, landarea= 5, living area= 1.2, garages=2,rooms=6, bedrooms=3,age=30\n",
        "\n",
        "prob_lp_condo= -0.5*(np.log(2*np.pi*lp_condo_var))  - 0.5*((12-lp_condo_mean)**2)/lp_condo_var\n",
        "prob_bath_condo = -0.5*(np.log(2*np.pi*bath_condo_var))  - 0.5*((1.5-bath_condo_mean)**2)/bath_condo_var\n",
        "prob_la_condo = -0.5*(np.log(2*np.pi*la_condo_var))  - 0.5*((5-la_condo_mean)**2)/la_condo_var\n",
        "prob_livarea_condo= -0.5*(np.log(2*np.pi*livarea_condo_var))  - 0.5*((1.2-livarea_condo_mean)**2)/livarea_condo_var\n",
        "prob_garage_condo = -0.5*(np.log(2*np.pi*garage_condo_var))  - 0.5*((2-garage_condo_mean)**2)/garage_condo_var\n",
        "prob_rooms_condo = -0.5*(np.log(2*np.pi*rooms_condo_var))  - 0.5*((6-rooms_condo_mean)**2)/rooms_condo_var\n",
        "prob_bedrooms_condo = -0.5*(np.log(2*np.pi*bedrooms_condo_var))  - 0.5*((3-bedrooms_condo_mean)**2)/bedrooms_condo_var\n",
        "prob_age_condo = -0.5*(np.log(2*np.pi*age_condo_var))  - 0.5*((30-age_condo_mean)**2)/age_condo_var\n",
        "\n",
        "\n",
        "# posterior of apartment for the query point\n",
        "prob_condo= 0.30\n",
        "prosteior_condo= prob_condo * prob_lp_condo * prob_bath_condo * prob_la_condo * prob_livarea_condo * prob_garage_condo * prob_rooms_condo * prob_bedrooms_condo * prob_age_condo\n",
        "\n",
        "\n",
        "prosterior_sample5= [prosteior_apartment,prosteior_house,prosteior_condo]\n",
        "classification_sample5= max(prosterior_sample5)\n",
        "print('prosteior_apartment:',prosteior_apartment)\n",
        "print('prosteior_house:',prosteior_house)\n",
        "print('prosteior_condo:',prosteior_condo)\n",
        "print('final classification: Apartment = ',classification_sample5)"
      ],
      "metadata": {
        "colab": {
          "base_uri": "https://localhost:8080/"
        },
        "id": "Kz7FDx_McgVd",
        "outputId": "5bb6aa34-9a35-4cce-eb7f-1fe118d70886"
      },
      "execution_count": 21,
      "outputs": [
        {
          "output_type": "stream",
          "name": "stdout",
          "text": [
            "prosteior_apartment: 4.070634502025633\n",
            "prosteior_house: -17.128336322743145\n",
            "prosteior_condo: 3.5807334009514227\n",
            "final classification: Apartment =  4.070634502025633\n"
          ]
        }
      ]
    }
  ]
}